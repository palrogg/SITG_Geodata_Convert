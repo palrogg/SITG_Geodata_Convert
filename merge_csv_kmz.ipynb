{
 "cells": [
  {
   "cell_type": "markdown",
   "metadata": {},
   "source": [
    "# kmz to csv converter for SITG geodata\n",
    "\n",
    "Geodata from the [SITG catalog](http://ge.ch/sitg/sitg_catalog/sitg_donnees) contain either good data but a very unconvenient geodata format, or good geodata and all other data nested in a very unconvenient `<description>` tag. This script extracts and merges:\n",
    "* data from the **csv archive** (example: CSV_GOL_DECHETTERIE.zip)\n",
    "* data from the **kmz archive** (example: KML_GOL_DECHETTERIE)\n",
    "\n",
    "You need to download both file formats of the dataset. No need to extract the contents of the zip, the script does it for you.\n",
    "\n",
    "This is a work in progress, feel free to contribute! It is provided “as is”, without warranty of any kind."
   ]
  },
  {
   "cell_type": "code",
   "execution_count": 1,
   "metadata": {
    "collapsed": true
   },
   "outputs": [],
   "source": [
    "from zipfile import ZipFile\n",
    "import glob"
   ]
  },
  {
   "cell_type": "markdown",
   "metadata": {},
   "source": [
    "# Unzip\n"
   ]
  },
  {
   "cell_type": "code",
   "execution_count": 2,
   "metadata": {
    "collapsed": false
   },
   "outputs": [
    {
     "data": {
      "text/plain": [
       "['CSV_GOL_DECHETTERIE.zip', 'KML_GOL_DECHETTERIE.zip']"
      ]
     },
     "execution_count": 2,
     "metadata": {},
     "output_type": "execute_result"
    }
   ],
   "source": [
    "zipFiles = glob.glob('*.zip')\n",
    "zipFiles"
   ]
  },
  {
   "cell_type": "code",
   "execution_count": 3,
   "metadata": {
    "collapsed": false
   },
   "outputs": [
    {
     "name": "stdout",
     "output_type": "stream",
     "text": [
      "Extracting GOL_DECHETTERIE.csv\n",
      ">> csv file found: GOL_DECHETTERIE.csv\n",
      "Extracting GOL_DECHETTERIE.kmz\n",
      ">> kmz file found: GOL_DECHETTERIE.kmz\n"
     ]
    }
   ],
   "source": [
    "kmz_filename = ''\n",
    "csv_filename = ''\n",
    "\n",
    "for zipFile in zipFiles:\n",
    "    folderContent = ZipFile(zipFile, 'r')\n",
    "    filenames = [item.filename for item in folderContent.filelist]\n",
    "    print('Extracting', filenames[0])\n",
    "    \n",
    "    if filenames[0][-4:] == '.kmz':\n",
    "        kmz_filename = filenames[0]\n",
    "        print('>> kmz file found:', kmz_filename)\n",
    "    elif filenames[0][-4:] == '.csv':\n",
    "        csv_filename = filenames[0]\n",
    "        print('>> csv file found:', csv_filename)\n",
    "    \n",
    "    folderContent.extract(filenames[0])\n",
    "    folderContent.close()"
   ]
  },
  {
   "cell_type": "markdown",
   "metadata": {},
   "source": [
    "# Extract kmz"
   ]
  },
  {
   "cell_type": "code",
   "execution_count": 4,
   "metadata": {
    "collapsed": false
   },
   "outputs": [],
   "source": [
    "kmz = ZipFile(kmz_filename, 'r')\n",
    "kml = kmz.open('doc.kml', 'r')"
   ]
  },
  {
   "cell_type": "markdown",
   "metadata": {},
   "source": [
    "These four cells comes from **tylerjw's great kmz parser**:\n",
    "\n",
    "https://github.com/tylerjw/kmz_parser"
   ]
  },
  {
   "cell_type": "code",
   "execution_count": 5,
   "metadata": {
    "collapsed": true
   },
   "outputs": [],
   "source": [
    "import xml.sax, xml.sax.handler\n",
    "class PlacemarkHandler(xml.sax.handler.ContentHandler):\n",
    "    def __init__(self):\n",
    "        self.inName = False # handle XML parser events\n",
    "        self.inPlacemark = False\n",
    "        self.mapping = {}\n",
    "        self.buffer = \"\"\n",
    "        self.name_tag = \"\"\n",
    "       \n",
    "    def startElement(self, name, attributes):\n",
    "        if name == \"Placemark\": # on start Placemark tag\n",
    "            self.inPlacemark = True\n",
    "            self.buffer = \"\"\n",
    "        if self.inPlacemark:\n",
    "            if name == \"name\": # on start title tag\n",
    "                self.inName = True # save name text to follow\n",
    "           \n",
    "    def characters(self, data):\n",
    "        if self.inPlacemark: # on text within tag\n",
    "            self.buffer += data # save text if in title\n",
    "           \n",
    "    def endElement(self, name):\n",
    "        self.buffer = self.buffer.strip('\\n\\t')\n",
    "       \n",
    "        if name == \"Placemark\":\n",
    "            self.inPlacemark = False\n",
    "            self.name_tag = \"\" #clear current name\n",
    "       \n",
    "        elif name == \"name\" and self.inPlacemark:\n",
    "            self.inName = False # on end title tag           \n",
    "            self.name_tag = self.buffer.strip()\n",
    "            self.mapping[self.name_tag] = {}\n",
    "        elif self.inPlacemark:\n",
    "            if name in self.mapping[self.name_tag]:\n",
    "                self.mapping[self.name_tag][name] += self.buffer\n",
    "            else:\n",
    "                self.mapping[self.name_tag][name] = self.buffer\n",
    "        self.buffer = \"\""
   ]
  },
  {
   "cell_type": "code",
   "execution_count": 6,
   "metadata": {
    "collapsed": true
   },
   "outputs": [],
   "source": [
    "parser = xml.sax.make_parser()\n",
    "handler = PlacemarkHandler()\n",
    "parser.setContentHandler(handler)\n",
    "parser.parse(kml)\n",
    "kmz.close()"
   ]
  },
  {
   "cell_type": "code",
   "execution_count": 7,
   "metadata": {
    "collapsed": true
   },
   "outputs": [],
   "source": [
    "def build_table(mapping):\n",
    "    sep = ';'\n",
    "    count = 0\n",
    "    \n",
    "    output = 'Name' + sep + 'Coordinates\\n'\n",
    "    points = ''\n",
    "    lines = ''\n",
    "    shapes = ''\n",
    "    for key in mapping:\n",
    "        coord_str = mapping[key]['coordinates'] + sep\n",
    "       \n",
    "        if 'LookAt' in mapping[key]: #points\n",
    "            points += key + sep + coord_str + \"\\n\"\n",
    "        elif 'LineString' in mapping[key]: #lines\n",
    "            lines += key + sep + coord_str + \"\\n\"\n",
    "        else: #shapes\n",
    "            shapes += key + sep + coord_str + \"\\n\"\n",
    "        count += 1\n",
    "    output += points + lines + shapes\n",
    "    print(count, \"objects found.\")\n",
    "    return output"
   ]
  },
  {
   "cell_type": "code",
   "execution_count": 8,
   "metadata": {
    "collapsed": false
   },
   "outputs": [
    {
     "name": "stdout",
     "output_type": "stream",
     "text": [
      "674 objects found.\n",
      "Saving the geodata as GOL_DECHETTERIE-geo.csv\n"
     ]
    }
   ],
   "source": [
    "outstr = build_table(handler.mapping)\n",
    "out_filename = kmz_filename[:-4] + \"-geo.csv\" #output filename same as input plus .csv\n",
    "print('Saving the geodata as', out_filename)\n",
    "f = open(out_filename, \"w\")\n",
    "f.write(outstr)\n",
    "f.close()"
   ]
  },
  {
   "cell_type": "markdown",
   "metadata": {
    "collapsed": true
   },
   "source": [
    "# Let's merge the two datasets"
   ]
  },
  {
   "cell_type": "code",
   "execution_count": 9,
   "metadata": {
    "collapsed": true
   },
   "outputs": [],
   "source": [
    "import pandas as pd"
   ]
  },
  {
   "cell_type": "code",
   "execution_count": 10,
   "metadata": {
    "collapsed": false
   },
   "outputs": [
    {
     "name": "stdout",
     "output_type": "stream",
     "text": [
      "df length = 675 \n",
      "geodata length = 674\n"
     ]
    }
   ],
   "source": [
    "df = pd.read_csv(csv_filename, delimiter=';', encoding='Windows 1252')\n",
    "geo = pd.read_csv(csv_filename[:-4] + '-geo.csv', delimiter=';')\n",
    "print(\"df length =\", len(df), \"\\ngeodata length =\", len(geo))"
   ]
  },
  {
   "cell_type": "code",
   "execution_count": 12,
   "metadata": {
    "collapsed": false
   },
   "outputs": [],
   "source": [
    "geo['id'] = geo.index.astype(str)"
   ]
  },
  {
   "cell_type": "markdown",
   "metadata": {},
   "source": [
    "## Let's have a look"
   ]
  },
  {
   "cell_type": "code",
   "execution_count": 15,
   "metadata": {
    "collapsed": false
   },
   "outputs": [
    {
     "data": {
      "text/html": [
       "<div>\n",
       "<table border=\"1\" class=\"dataframe\">\n",
       "  <thead>\n",
       "    <tr style=\"text-align: right;\">\n",
       "      <th></th>\n",
       "      <th>Name</th>\n",
       "      <th>Coordinates</th>\n",
       "      <th>id</th>\n",
       "    </tr>\n",
       "  </thead>\n",
       "  <tbody>\n",
       "    <tr>\n",
       "      <th>23-094</th>\n",
       "      <td>6.121241069757926,46.21483207228757...</td>\n",
       "      <td>NaN</td>\n",
       "      <td>23-094</td>\n",
       "    </tr>\n",
       "    <tr>\n",
       "      <th>23-053</th>\n",
       "      <td>6.130219608016631,46.21463137886302...</td>\n",
       "      <td>NaN</td>\n",
       "      <td>23-053</td>\n",
       "    </tr>\n",
       "  </tbody>\n",
       "</table>\n",
       "</div>"
      ],
      "text/plain": [
       "                                                     Name  Coordinates      id\n",
       "23-094             6.121241069757926,46.21483207228757...          NaN  23-094\n",
       "23-053             6.130219608016631,46.21463137886302...          NaN  23-053"
      ]
     },
     "execution_count": 15,
     "metadata": {},
     "output_type": "execute_result"
    }
   ],
   "source": [
    "geo.head(2)"
   ]
  },
  {
   "cell_type": "code",
   "execution_count": 16,
   "metadata": {
    "collapsed": false
   },
   "outputs": [
    {
     "data": {
      "text/html": [
       "<div>\n",
       "<table border=\"1\" class=\"dataframe\">\n",
       "  <thead>\n",
       "    <tr style=\"text-align: right;\">\n",
       "      <th></th>\n",
       "      <th>NUMERO_SITE</th>\n",
       "      <th>NO_VGE</th>\n",
       "      <th>STATUT</th>\n",
       "      <th>BENNE</th>\n",
       "      <th>MODELE_BENNE</th>\n",
       "      <th>PROFONDEUR</th>\n",
       "      <th>COMMUNE</th>\n",
       "      <th>ADRESSE</th>\n",
       "      <th>HORAIRES</th>\n",
       "      <th>RIVE</th>\n",
       "      <th>...</th>\n",
       "      <th>BRANCHE</th>\n",
       "      <th>FRIGO</th>\n",
       "      <th>SPECIAUX_MENAGER</th>\n",
       "      <th>ORDURE_MENAGERE</th>\n",
       "      <th>DECHETS_CUISINE</th>\n",
       "      <th>DECHETS_JARDINS</th>\n",
       "      <th>DECHETS_ORGANIQUES</th>\n",
       "      <th>AUTRE_DECHET</th>\n",
       "      <th>SHAPE.AREA</th>\n",
       "      <th>SHAPE.LEN</th>\n",
       "    </tr>\n",
       "  </thead>\n",
       "  <tbody>\n",
       "    <tr>\n",
       "      <th>0</th>\n",
       "      <td>26-013</td>\n",
       "      <td>NaN</td>\n",
       "      <td>Existante</td>\n",
       "      <td>En surface</td>\n",
       "      <td>Non renseigné</td>\n",
       "      <td>0.00</td>\n",
       "      <td>Grand-saconnex</td>\n",
       "      <td>Chemin edouard-sarasin - devant les commerces ...</td>\n",
       "      <td>NaN</td>\n",
       "      <td>Droite</td>\n",
       "      <td>...</td>\n",
       "      <td>NaN</td>\n",
       "      <td>NaN</td>\n",
       "      <td>NaN</td>\n",
       "      <td>NaN</td>\n",
       "      <td>NaN</td>\n",
       "      <td>NaN</td>\n",
       "      <td>NaN</td>\n",
       "      <td>NaN</td>\n",
       "      <td>18.990061</td>\n",
       "      <td>24.070290</td>\n",
       "    </tr>\n",
       "    <tr>\n",
       "      <th>1</th>\n",
       "      <td>45-002</td>\n",
       "      <td>NaN</td>\n",
       "      <td>Existante</td>\n",
       "      <td>Enterrée</td>\n",
       "      <td>Villiger</td>\n",
       "      <td>2.85</td>\n",
       "      <td>Vandoeuvres</td>\n",
       "      <td>Route de meinier - parking du centre communal</td>\n",
       "      <td>NaN</td>\n",
       "      <td>Gauche</td>\n",
       "      <td>...</td>\n",
       "      <td>NaN</td>\n",
       "      <td>NaN</td>\n",
       "      <td>NaN</td>\n",
       "      <td>Oui</td>\n",
       "      <td>NaN</td>\n",
       "      <td>NaN</td>\n",
       "      <td>NaN</td>\n",
       "      <td>NaN</td>\n",
       "      <td>22.452571</td>\n",
       "      <td>25.052456</td>\n",
       "    </tr>\n",
       "  </tbody>\n",
       "</table>\n",
       "<p>2 rows × 44 columns</p>\n",
       "</div>"
      ],
      "text/plain": [
       "  NUMERO_SITE  NO_VGE     STATUT       BENNE   MODELE_BENNE  PROFONDEUR  \\\n",
       "0      26-013     NaN  Existante  En surface  Non renseigné        0.00   \n",
       "1      45-002     NaN  Existante    Enterrée       Villiger        2.85   \n",
       "\n",
       "          COMMUNE                                            ADRESSE HORAIRES  \\\n",
       "0  Grand-saconnex  Chemin edouard-sarasin - devant les commerces ...      NaN   \n",
       "1     Vandoeuvres      Route de meinier - parking du centre communal      NaN   \n",
       "\n",
       "     RIVE    ...     BRANCHE FRIGO SPECIAUX_MENAGER ORDURE_MENAGERE  \\\n",
       "0  Droite    ...         NaN   NaN              NaN             NaN   \n",
       "1  Gauche    ...         NaN   NaN              NaN             Oui   \n",
       "\n",
       "  DECHETS_CUISINE DECHETS_JARDINS DECHETS_ORGANIQUES AUTRE_DECHET SHAPE.AREA  \\\n",
       "0             NaN             NaN                NaN          NaN  18.990061   \n",
       "1             NaN             NaN                NaN          NaN  22.452571   \n",
       "\n",
       "   SHAPE.LEN  \n",
       "0  24.070290  \n",
       "1  25.052456  \n",
       "\n",
       "[2 rows x 44 columns]"
      ]
     },
     "execution_count": 16,
     "metadata": {},
     "output_type": "execute_result"
    }
   ],
   "source": [
    "df.head(2)"
   ]
  },
  {
   "cell_type": "code",
   "execution_count": 20,
   "metadata": {
    "collapsed": false
   },
   "outputs": [
    {
     "name": "stdout",
     "output_type": "stream",
     "text": [
      "The dataset's id column should be NUMERO_SITE (edit next line if it seems wrong).\n"
     ]
    }
   ],
   "source": [
    "id_column = df.columns[0]\n",
    "print(\"The dataset's id column should be\", id_column, \"(edit next line if it seems wrong).\")\n",
    "# id_column = 'custom_column_name"
   ]
  },
  {
   "cell_type": "code",
   "execution_count": 21,
   "metadata": {
    "collapsed": false
   },
   "outputs": [],
   "source": [
    "df2 = df.merge(geo, left_on=id_column, right_on='id')"
   ]
  },
  {
   "cell_type": "code",
   "execution_count": 23,
   "metadata": {
    "collapsed": false
   },
   "outputs": [
    {
     "name": "stdout",
     "output_type": "stream",
     "text": [
      "The merged data was saved as GOL_DECHETTERIE_export.csv\n"
     ]
    }
   ],
   "source": [
    "merged_filename = csv_filename[:-4]+'_export.csv'\n",
    "df2.shape\n",
    "df2.head()\n",
    "df2.to_csv(csv_filename[:-4]+'_export.csv', encoding='utf-8', delimiter=';', index=False)\n",
    "print(\"The merged data was saved as\", merged_filename)"
   ]
  }
 ],
 "metadata": {
  "anaconda-cloud": {},
  "kernelspec": {
   "display_name": "Python [Root]",
   "language": "python",
   "name": "Python [Root]"
  },
  "language_info": {
   "codemirror_mode": {
    "name": "ipython",
    "version": 3
   },
   "file_extension": ".py",
   "mimetype": "text/x-python",
   "name": "python",
   "nbconvert_exporter": "python",
   "pygments_lexer": "ipython3",
   "version": "3.5.2"
  }
 },
 "nbformat": 4,
 "nbformat_minor": 0
}
